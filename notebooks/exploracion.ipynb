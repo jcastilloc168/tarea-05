{
 "cells": [
  {
   "cell_type": "code",
   "execution_count": null,
   "id": "e58084ae-d160-4e21-84b0-a3dd026e157a",
   "metadata": {},
   "outputs": [],
   "source": [
    "import pandas as pd\n",
    "\n",
    "# Leer el CSV desde la URL\n",
    "url = 'https://raw.githubusercontent.com/plotly/datasets/master/iris-data.csv'\n",
    "df = pd.read_csv(url)\n",
    "\n",
    "print(\"Tamaño del DataFrame:\", df.shape) ## Se muestra el tamaño del DataFrame Iris\n",
    "df.head() ## Se muestra las primeras 5 filas\n"
   ]
  },
  {
   "cell_type": "markdown",
   "id": "a143fd18",
   "metadata": {},
   "source": [
    "## Descripción del Dataset\n",
    "\n",
    "### Columnas del Dataset y su Representación\n",
    "\n",
    "El dataset de Iris contiene las siguientes columnas:\n",
    "\n",
    "- **sepal_length**: Longitud del sépalo en centímetros.\n",
    "- **sepal_width**: Ancho del sépalo en centímetros.\n",
    "- **petal_length**: Longitud del pétalo en centímetros.\n",
    "- **petal_width**: Ancho del pétalo en centímetros.\n",
    "- **class**: Clase de la flor. Las posibles clases son 'Iris-setosa', 'Iris-versicolor' y 'Iris-virginica'."
   ]
  },
  {
   "cell_type": "code",
   "execution_count": 2,
   "id": "9c8bd695",
   "metadata": {},
   "outputs": [
    {
     "name": "stdout",
     "output_type": "stream",
     "text": [
      "Columnas del dataset y su representación:\n",
      "Index(['sepal length', 'sepal width', 'petal length', 'petal width', 'class'], dtype='object')\n"
     ]
    }
   ],
   "source": [
    "print(\"Columnas del dataset y su representación:\")\n",
    "print(df.columns)"
   ]
  },
  {
   "cell_type": "markdown",
   "id": "3132a747",
   "metadata": {},
   "source": [
    "### ¿Existen valores nulos en el data set\n",
    "\n",
    "Par verificar la existencia de valores nulos, se utilizará el metodo `is.null()` del paquete pandas y luego se ocupa la `sum()` para contan el total de valores nulos en el dataset iris"
   ]
  },
  {
   "cell_type": "code",
   "execution_count": 5,
   "id": "692c146e",
   "metadata": {},
   "outputs": [
    {
     "name": "stdout",
     "output_type": "stream",
     "text": [
      "Existencia de valores nulos en el dataset:\n",
      "sepal length    0\n",
      "sepal width     0\n",
      "petal length    0\n",
      "petal width     0\n",
      "class           0\n",
      "dtype: int64\n"
     ]
    }
   ],
   "source": [
    "print(\"Existencia de valores nulos en el dataset:\")\n",
    "print(df.isnull().sum())"
   ]
  },
  {
   "cell_type": "markdown",
   "id": "d7e8a364",
   "metadata": {},
   "source": [
    "### Estadisticas descriptivas del data set\n",
    "\n",
    "Para analizar información estadistica del dataset, utilizamos el método `describe()` de pandas que nos proporciona información sobre numero de filas, el promedio, desviación estandar, valor minimo y maximo y los percentiles 25%, 50% y 75% de cada columna."
   ]
  },
  {
   "cell_type": "code",
   "execution_count": 6,
   "id": "3b4a797c",
   "metadata": {},
   "outputs": [
    {
     "name": "stdout",
     "output_type": "stream",
     "text": [
      "Estadísticas descriptivas de cada columna numérica:\n",
      "       sepal length  sepal width  petal length  petal width\n",
      "count    150.000000   150.000000    150.000000   150.000000\n",
      "mean       5.843333     3.054000      3.758667     1.198667\n",
      "std        0.828066     0.433594      1.764420     0.763161\n",
      "min        4.300000     2.000000      1.000000     0.100000\n",
      "25%        5.100000     2.800000      1.600000     0.300000\n",
      "50%        5.800000     3.000000      4.350000     1.300000\n",
      "75%        6.400000     3.300000      5.100000     1.800000\n",
      "max        7.900000     4.400000      6.900000     2.500000\n"
     ]
    }
   ],
   "source": [
    "print(\"Estadísticas descriptivas de cada columna numérica:\")\n",
    "print(df.describe())"
   ]
  },
  {
   "cell_type": "markdown",
   "id": "9a21a58d",
   "metadata": {},
   "source": [
    "### Numero de filas por cada clase de flor\n",
    "\n",
    "Para contar el numero de filas de cada clase o tipo de flor, utilizaremos el metodo `value_counts()` a la columna del deta set iris `class`"
   ]
  },
  {
   "cell_type": "code",
   "execution_count": 7,
   "id": "f50421e4",
   "metadata": {},
   "outputs": [
    {
     "name": "stdout",
     "output_type": "stream",
     "text": [
      "Numero de filas para cada clase de flor\n",
      "class\n",
      "Iris-setosa        50\n",
      "Iris-versicolor    50\n",
      "Iris-virginica     50\n",
      "Name: count, dtype: int64\n"
     ]
    }
   ],
   "source": [
    "print(\"Numero de filas para cada clase de flor\")\n",
    "print(df['class'].value_counts())"
   ]
  }
 ],
 "metadata": {
  "kernelspec": {
   "display_name": "Python 3",
   "language": "python",
   "name": "python3"
  },
  "language_info": {
   "codemirror_mode": {
    "name": "ipython",
    "version": 3
   },
   "file_extension": ".py",
   "mimetype": "text/x-python",
   "name": "python",
   "nbconvert_exporter": "python",
   "pygments_lexer": "ipython3",
   "version": "3.12.4"
  }
 },
 "nbformat": 4,
 "nbformat_minor": 5
}
