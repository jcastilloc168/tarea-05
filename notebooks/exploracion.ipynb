{
 "cells": [
  {
   "cell_type": "code",
   "execution_count": null,
   "id": "e58084ae-d160-4e21-84b0-a3dd026e157a",
   "metadata": {},
   "outputs": [],
   "source": [
    "import pandas as pd\n",
    "\n",
    "# Leer el CSV desde la URL\n",
    "url = 'https://raw.githubusercontent.com/plotly/datasets/master/iris-data.csv'\n",
    "df = pd.read_csv(url)\n",
    "\n",
    "print(\"Tamaño del DataFrame:\", df.shape) ## Se muestra el tamaño del DataFrame Iris\n",
    "df.head() ## Se muestra las primeras 5 filas\n"
   ]
  }
 ],
 "metadata": {
  "kernelspec": {
   "display_name": "Python 3",
   "language": "python",
   "name": "python3"
  },
  "language_info": {
   "codemirror_mode": {
    "name": "ipython",
    "version": 3
   },
   "file_extension": ".py",
   "mimetype": "text/x-python",
   "name": "python",
   "nbconvert_exporter": "python",
   "pygments_lexer": "ipython3",
   "version": "3.12.4"
  }
 },
 "nbformat": 4,
 "nbformat_minor": 5
}
