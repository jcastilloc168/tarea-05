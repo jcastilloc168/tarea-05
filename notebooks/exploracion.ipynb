{
 "cells": [
  {
   "cell_type": "code",
   "execution_count": null,
   "id": "e58084ae-d160-4e21-84b0-a3dd026e157a",
   "metadata": {},
   "outputs": [],
   "source": [
    "import pandas as pd\n",
    "\n",
    "# Leer el CSV desde la URL\n",
    "url = 'https://raw.githubusercontent.com/plotly/datasets/master/iris-data.csv'\n",
    "df = pd.read_csv(url)\n",
    "\n",
    "print(\"Tamaño del DataFrame:\", df.shape) ## Se muestra el tamaño del DataFrame Iris\n",
    "df.head() ## Se muestra las primeras 5 filas\n"
   ]
  },
  {
   "cell_type": "markdown",
   "id": "a143fd18",
   "metadata": {},
   "source": [
    "## Descripción del Dataset\n",
    "\n",
    "### Columnas del Dataset y su Representación\n",
    "\n",
    "El dataset de Iris contiene las siguientes columnas:\n",
    "\n",
    "- **sepal_length**: Longitud del sépalo en centímetros.\n",
    "- **sepal_width**: Ancho del sépalo en centímetros.\n",
    "- **petal_length**: Longitud del pétalo en centímetros.\n",
    "- **petal_width**: Ancho del pétalo en centímetros.\n",
    "- **class**: Clase de la flor. Las posibles clases son 'Iris-setosa', 'Iris-versicolor' y 'Iris-virginica'."
   ]
  },
  {
   "cell_type": "code",
   "execution_count": null,
   "id": "9c8bd695",
   "metadata": {},
   "outputs": [],
   "source": [
    "print(\"Columnas del dataset y su representación:\")\n",
    "print(df.columns)"
   ]
  }
 ],
 "metadata": {
  "kernelspec": {
   "display_name": "Python 3",
   "language": "python",
   "name": "python3"
  },
  "language_info": {
   "codemirror_mode": {
    "name": "ipython",
    "version": 3
   },
   "file_extension": ".py",
   "mimetype": "text/x-python",
   "name": "python",
   "nbconvert_exporter": "python",
   "pygments_lexer": "ipython3",
   "version": "3.12.4"
  }
 },
 "nbformat": 4,
 "nbformat_minor": 5
}
